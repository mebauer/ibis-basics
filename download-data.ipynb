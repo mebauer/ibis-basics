{
 "cells": [
  {
   "cell_type": "markdown",
   "id": "099be667",
   "metadata": {},
   "source": [
    "# Download Storm Events Data\n",
    "Author: Mark Bauer"
   ]
  },
  {
   "cell_type": "code",
   "execution_count": 1,
   "id": "b400573d",
   "metadata": {},
   "outputs": [],
   "source": [
    "import os\n",
    "import ibis\n",
    "import urllib.request\n",
    "import requests\n",
    "from bs4 import BeautifulSoup\n",
    "import duckdb"
   ]
  },
  {
   "cell_type": "code",
   "execution_count": 11,
   "id": "088fced8",
   "metadata": {},
   "outputs": [
    {
     "name": "stdout",
     "output_type": "stream",
     "text": [
      "Python implementation: CPython\n",
      "Python version       : 3.8.13\n",
      "IPython version      : 8.4.0\n",
      "\n",
      "urllib.request: 3.8\n",
      "requests      : 2.28.1\n",
      "bs4           : 4.11.1\n",
      "duckdb        : 0.10.0\n",
      "ibis          : 3.2.0\n",
      "\n"
     ]
    }
   ],
   "source": [
    "%reload_ext watermark\n",
    "%watermark -v -p urllib.request,requests,bs4,duckdb,ibis"
   ]
  },
  {
   "cell_type": "markdown",
   "id": "03a9707a",
   "metadata": {},
   "source": [
    "Data: **Storm Events Database**  \n",
    "Source: https://www.ncdc.noaa.gov/stormevents/\n",
    "\n",
    "Description:\n",
    "> The Storm Events Database contains the records used to create the official [NOAA Storm Data publication](https://www.ncdc.noaa.gov/IPS/sd/sd.html), documenting:\n",
    ">\n",
    ">a. The occurrence of storms and other significant weather phenomena having sufficient intensity to cause loss of life, injuries, significant property damage, and/or disruption to commerce;\n",
    ">\n",
    ">b. Rare, unusual, weather phenomena that generate media attention, such as snow flurries in South Florida or the San Diego coastal area; and\n",
    ">\n",
    ">c. Other significant meteorological events, such as record maximum or minimum temperatures or precipitation that occur in connection with another event.\n",
    ">\n",
    ">The database currently contains data from **January 1950 to February 2024**, as entered by NOAA's National Weather Service (NWS). Due to changes in the data collection and processing procedures over time, there are unique periods of record available depending on the event type. NCEI has performed data reformatting and standardization of event types but has not changed any data values for locations, fatalities, injuries, damage, narratives and any other event specific information. Please refer to the [Database Details](https://www.ncdc.noaa.gov/stormevents/details.jsp) page for more information.\n",
    "    "
   ]
  },
  {
   "cell_type": "code",
   "execution_count": 3,
   "id": "f4274c0c",
   "metadata": {},
   "outputs": [
    {
     "name": "stdout",
     "output_type": "stream",
     "text": [
      "Storm-Data-Bulk-csv-Format.pdf  ibis-basics.ipynb\r\n",
      "\u001b[34mdata\u001b[m\u001b[m/                           storm-events.db\r\n",
      "download-data.ipynb             storm-events.db.wal\r\n",
      "filter-data.ipynb\r\n"
     ]
    }
   ],
   "source": [
    "# download data dictionary\n",
    "url = 'https://www.ncei.noaa.gov/pub/data/swdi/stormevents/csvfiles/Storm-Data-Bulk-csv-Format.pdf'\n",
    "filepath = 'Storm-Data-Bulk-csv-Format.pdf'\n",
    "\n",
    "urllib.request.urlretrieve(url, filepath)\n",
    "\n",
    "# list files in data folder\n",
    "%ls "
   ]
  },
  {
   "cell_type": "code",
   "execution_count": 4,
   "id": "eaf073a8",
   "metadata": {},
   "outputs": [
    {
     "data": {
      "text/plain": [
       "['?C=N;O=D',\n",
       " '?C=M;O=A',\n",
       " '?C=S;O=A',\n",
       " '?C=D;O=A',\n",
       " '/pub/data/swdi/stormevents/',\n",
       " 'Storm-Data-Bulk-csv-Format.pdf',\n",
       " 'Storm-Data-Export-Format.pdf',\n",
       " 'StormEvents_details-ftp_v1.0_d1950_c20210803.csv.gz',\n",
       " 'StormEvents_details-ftp_v1.0_d1951_c20210803.csv.gz',\n",
       " 'StormEvents_details-ftp_v1.0_d1952_c20210803.csv.gz']"
      ]
     },
     "execution_count": 4,
     "metadata": {},
     "output_type": "execute_result"
    }
   ],
   "source": [
    "# retrieve links on webpage\n",
    "r  = requests.get(\"https://www.ncei.noaa.gov/pub/data/swdi/stormevents/csvfiles/\")\n",
    "data = r.text\n",
    "soup = BeautifulSoup(data)\n",
    "\n",
    "links = []\n",
    "for link in soup.find_all('a'):\n",
    "    href = link.get('href')\n",
    "    links.append(href)\n",
    "    \n",
    "# preview links    \n",
    "links[:10]    "
   ]
  },
  {
   "cell_type": "code",
   "execution_count": 5,
   "id": "a2159398",
   "metadata": {},
   "outputs": [
    {
     "data": {
      "text/plain": [
       "['StormEvents_details-ftp_v1.0_d1950_c20210803.csv.gz',\n",
       " 'StormEvents_details-ftp_v1.0_d1951_c20210803.csv.gz',\n",
       " 'StormEvents_details-ftp_v1.0_d1952_c20210803.csv.gz',\n",
       " 'StormEvents_details-ftp_v1.0_d1953_c20210803.csv.gz',\n",
       " 'StormEvents_details-ftp_v1.0_d1954_c20210803.csv.gz']"
      ]
     },
     "execution_count": 5,
     "metadata": {},
     "output_type": "execute_result"
    }
   ],
   "source": [
    "# retrieve only StormEvents_details files\n",
    "details = \"StormEvents_details\"\n",
    "links_details = [i for i in links if details in i]\n",
    "\n",
    "links_details[:5]"
   ]
  },
  {
   "cell_type": "code",
   "execution_count": 6,
   "id": "83eab0b6",
   "metadata": {},
   "outputs": [],
   "source": [
    "# download files\n",
    "path = \"https://www.ncei.noaa.gov/pub/data/swdi/stormevents/csvfiles/\"\n",
    "\n",
    "for link in links_details:\n",
    "    path_full = os.path.join(path, link)\n",
    "    response = requests.get(path_full)\n",
    "\n",
    "    file_name = os.path.join('data/raw/', link)\n",
    "    with open(file_name, 'wb') as file:\n",
    "        file.write(response.content)"
   ]
  },
  {
   "cell_type": "code",
   "execution_count": 7,
   "id": "f9a0d652",
   "metadata": {},
   "outputs": [
    {
     "name": "stdout",
     "output_type": "stream",
     "text": [
      "      75\r\n"
     ]
    }
   ],
   "source": [
    "# count of files\n",
    "!ls -l data/raw/ | grep \"^-\" | wc -l"
   ]
  },
  {
   "cell_type": "code",
   "execution_count": 8,
   "id": "cc6eaefe",
   "metadata": {},
   "outputs": [
    {
     "name": "stdout",
     "output_type": "stream",
     "text": [
      "273M\tdata/raw/\r\n"
     ]
    }
   ],
   "source": [
    "# file size\n",
    "!du -sh data/raw/"
   ]
  },
  {
   "cell_type": "code",
   "execution_count": 9,
   "id": "36b6cee2",
   "metadata": {},
   "outputs": [
    {
     "name": "stdout",
     "output_type": "stream",
     "text": [
      "StormEvents_details-ftp_v1.0_d1950_c20210803.csv.gz\r\n",
      "StormEvents_details-ftp_v1.0_d1951_c20210803.csv.gz\r\n",
      "StormEvents_details-ftp_v1.0_d1952_c20210803.csv.gz\r\n",
      "StormEvents_details-ftp_v1.0_d1953_c20210803.csv.gz\r\n",
      "StormEvents_details-ftp_v1.0_d1954_c20210803.csv.gz\r\n"
     ]
    }
   ],
   "source": [
    "# preview files in directory\n",
    "!ls data/raw/ | head -n 5"
   ]
  },
  {
   "cell_type": "code",
   "execution_count": null,
   "id": "a3b2b55e",
   "metadata": {},
   "outputs": [],
   "source": []
  }
 ],
 "metadata": {
  "kernelspec": {
   "display_name": "Python 3 (ipykernel)",
   "language": "python",
   "name": "python3"
  },
  "language_info": {
   "codemirror_mode": {
    "name": "ipython",
    "version": 3
   },
   "file_extension": ".py",
   "mimetype": "text/x-python",
   "name": "python",
   "nbconvert_exporter": "python",
   "pygments_lexer": "ipython3",
   "version": "3.8.13"
  }
 },
 "nbformat": 4,
 "nbformat_minor": 5
}
