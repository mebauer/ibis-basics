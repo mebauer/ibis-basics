{
 "cells": [
  {
   "cell_type": "markdown",
   "id": "099be667",
   "metadata": {},
   "source": [
    "# Download Storm Events Data\n",
    "Author: Mark Bauer"
   ]
  },
  {
   "cell_type": "code",
   "execution_count": 1,
   "id": "b400573d",
   "metadata": {},
   "outputs": [],
   "source": [
    "import os\n",
    "import ibis\n",
    "import requests\n",
    "from bs4 import BeautifulSoup\n",
    "import duckdb\n",
    "\n",
    "ibis.options.interactive = True"
   ]
  },
  {
   "cell_type": "code",
   "execution_count": 2,
   "id": "088fced8",
   "metadata": {},
   "outputs": [
    {
     "name": "stdout",
     "output_type": "stream",
     "text": [
      "3.2.0\n"
     ]
    }
   ],
   "source": [
    "print(ibis.__version__)"
   ]
  },
  {
   "cell_type": "code",
   "execution_count": 6,
   "id": "eaf073a8",
   "metadata": {},
   "outputs": [
    {
     "data": {
      "text/plain": [
       "['?C=N;O=D',\n",
       " '?C=M;O=A',\n",
       " '?C=S;O=A',\n",
       " '?C=D;O=A',\n",
       " '/pub/data/swdi/stormevents/',\n",
       " 'Storm-Data-Bulk-csv-Format.pdf',\n",
       " 'Storm-Data-Export-Format.pdf',\n",
       " 'StormEvents_details-ftp_v1.0_d1950_c20210803.csv.gz',\n",
       " 'StormEvents_details-ftp_v1.0_d1951_c20210803.csv.gz',\n",
       " 'StormEvents_details-ftp_v1.0_d1952_c20210803.csv.gz']"
      ]
     },
     "execution_count": 6,
     "metadata": {},
     "output_type": "execute_result"
    }
   ],
   "source": [
    "r  = requests.get(\"https://www.ncei.noaa.gov/pub/data/swdi/stormevents/csvfiles/\")\n",
    "data = r.text\n",
    "soup = BeautifulSoup(data)\n",
    "\n",
    "links = []\n",
    "for link in soup.find_all('a'):\n",
    "    href = link.get('href')\n",
    "    \n",
    "    links.append(href)\n",
    "    \n",
    "links[:10]    "
   ]
  },
  {
   "cell_type": "code",
   "execution_count": 7,
   "id": "a2159398",
   "metadata": {},
   "outputs": [
    {
     "data": {
      "text/plain": [
       "['StormEvents_details-ftp_v1.0_d1950_c20210803.csv.gz',\n",
       " 'StormEvents_details-ftp_v1.0_d1951_c20210803.csv.gz',\n",
       " 'StormEvents_details-ftp_v1.0_d1952_c20210803.csv.gz',\n",
       " 'StormEvents_details-ftp_v1.0_d1953_c20210803.csv.gz',\n",
       " 'StormEvents_details-ftp_v1.0_d1954_c20210803.csv.gz']"
      ]
     },
     "execution_count": 7,
     "metadata": {},
     "output_type": "execute_result"
    }
   ],
   "source": [
    "details = \"StormEvents_details\"\n",
    "links_details = [i for i in links if details in i]\n",
    "\n",
    "links_details[:5]"
   ]
  },
  {
   "cell_type": "code",
   "execution_count": 8,
   "id": "83eab0b6",
   "metadata": {},
   "outputs": [],
   "source": [
    "path = \"https://www.ncei.noaa.gov/pub/data/swdi/stormevents/csvfiles/\"\n",
    "\n",
    "for link in links_details:\n",
    "    path_full = os.path.join(path, link)\n",
    "    response = requests.get(path_full)\n",
    "\n",
    "    file_name = os.path.join('data/raw/', link)\n",
    "    with open(file_name, 'wb') as file:\n",
    "        file.write(response.content)"
   ]
  },
  {
   "cell_type": "code",
   "execution_count": 11,
   "id": "f9a0d652",
   "metadata": {},
   "outputs": [
    {
     "name": "stdout",
     "output_type": "stream",
     "text": [
      "      75\r\n"
     ]
    }
   ],
   "source": [
    "!ls -l data/raw/ | grep \"^-\" | wc -l"
   ]
  },
  {
   "cell_type": "code",
   "execution_count": 12,
   "id": "cc6eaefe",
   "metadata": {},
   "outputs": [
    {
     "name": "stdout",
     "output_type": "stream",
     "text": [
      "273M\tdata/raw/\r\n"
     ]
    }
   ],
   "source": [
    "!du -sh data/raw/"
   ]
  },
  {
   "cell_type": "code",
   "execution_count": null,
   "id": "36b6cee2",
   "metadata": {},
   "outputs": [],
   "source": []
  }
 ],
 "metadata": {
  "kernelspec": {
   "display_name": "Python 3 (ipykernel)",
   "language": "python",
   "name": "python3"
  },
  "language_info": {
   "codemirror_mode": {
    "name": "ipython",
    "version": 3
   },
   "file_extension": ".py",
   "mimetype": "text/x-python",
   "name": "python",
   "nbconvert_exporter": "python",
   "pygments_lexer": "ipython3",
   "version": "3.8.13"
  }
 },
 "nbformat": 4,
 "nbformat_minor": 5
}
